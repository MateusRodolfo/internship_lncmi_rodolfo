{
 "cells": [
  {
   "cell_type": "code",
   "execution_count": null,
   "metadata": {},
   "outputs": [],
   "source": [
    "# imports\n",
    "\n",
    "from numpy import linspace, pi\n",
    "from matplotlib.pyplot import show\n",
    "from matplotlib import rcParams\n",
    "from magpylib import Collection, displaySystem\n",
    "from magpylib.source.magnet import Cylinder\n",
    "from magforce import plot_1D_along_x, plot_1D_along_y, plot_1D_along_z\n",
    "from magforce import plot_2D_plane_x, plot_2D_plane_y, plot_2D_plane_z\n",
    "from magforce import plot_3D\n",
    "from magforce import getM, getF"
   ]
  },
  {
   "cell_type": "code",
   "execution_count": null,
   "metadata": {},
   "outputs": [],
   "source": [
    "# make figures bigger on notebook\n",
    "width = 7\n",
    "height = 7\n",
    "rcParams['figure.figsize'] = [width, height]"
   ]
  },
  {
   "cell_type": "code",
   "execution_count": null,
   "metadata": {},
   "outputs": [],
   "source": [
    "# sample Definition\n",
    "\n",
    "demagnetizing_factor = 1 / 3           # sphere\n",
    "volume = 4 / 3 * pi * (4 / 1000) ** 3  # V sphere r=4mm [m3]\n",
    "M_saturation = 1.400e6                 # Ms Co room temperature [A/m]\n",
    "\n",
    "sample = {'demagnetizing_factor': demagnetizing_factor,\n",
    "          'volume': volume,\n",
    "          'M_saturation': M_saturation}"
   ]
  },
  {
   "cell_type": "code",
   "execution_count": null,
   "metadata": {},
   "outputs": [],
   "source": [
    "# magnet collection definition\n",
    "\n",
    "m1 = Cylinder(mag=[0, 0, 1300],  # 1300mT of magnetization along z axis\n",
    "              dim=[10, 20],      # 10mm diameter, 20mm height\n",
    "              pos=[0, 0, -20])   # center is at z = -20mm\n",
    "\n",
    "m2 = Cylinder(mag=[0, 0, 1300],  # 1300mT of magnetization along z axis\n",
    "              dim=[10, 20],      # 10mm diameter, 20mm height\n",
    "              pos=[0, 0, 20])    # center is at z = 20mm\n",
    "\n",
    "both = Collection(m1, m2)        # arrangement with both magnets\n",
    "\n",
    "\n",
    "# magnet collection visualisation\n",
    "\n",
    "displaySystem(both)"
   ]
  },
  {
   "cell_type": "code",
   "execution_count": null,
   "metadata": {},
   "outputs": [],
   "source": [
    "# calculate magnetization imposed in the sample if its center was on a given point\n",
    "\n",
    "point = (0, 0, 0)\n",
    "\n",
    "print(getM(point, m1, sample))    # Out: [0; 0; 142710.36127004]\n",
    "\n",
    "print(getM(point, m2, sample))    # Out: [0; 0; 142710.36127004]\n",
    "\n",
    "print(getM(point, both, sample))  # Out: [0; 0; 285420.72254009]"
   ]
  },
  {
   "cell_type": "code",
   "execution_count": null,
   "metadata": {},
   "outputs": [],
   "source": [
    "# calculate force imposed in the sample if its center was on a given point\n",
    "\n",
    "point = (0, 0, 0)\n",
    "\n",
    "print(getF(point, m1, sample))    # Out: [0; 0; -0.42275038]\n",
    "\n",
    "print(getF(point, m2, sample))    # Out: [0; 0; 0.42275038]\n",
    "\n",
    "print(getF(point, both, sample))  # Out: [0; 0; 0]"
   ]
  },
  {
   "cell_type": "code",
   "execution_count": null,
   "metadata": {},
   "outputs": [],
   "source": [
    "# simple study of B along x axis\n",
    "\n",
    "plot_1D_along_x(xs=linspace(-10, 10, 500),\n",
    "                y=0,\n",
    "                z=0,\n",
    "                collections={'both': both},\n",
    "                BF='B',\n",
    "                showim=True)"
   ]
  },
  {
   "cell_type": "code",
   "execution_count": null,
   "metadata": {},
   "outputs": [],
   "source": [
    "# simple study of F along y axis\n",
    "\n",
    "plot_1D_along_y(x=0,\n",
    "                ys=linspace(-5, 5, 500),\n",
    "                z=0,\n",
    "                collections={'up': m2},\n",
    "                sample=sample,\n",
    "                BF='F',\n",
    "                showim=True)"
   ]
  },
  {
   "cell_type": "code",
   "execution_count": null,
   "metadata": {},
   "outputs": [],
   "source": [
    "# using all variables in the plot function for z direction\n",
    "\n",
    "plot_1D_along_z(x=1,\n",
    "                y=2,\n",
    "                zs=linspace(-5, 5, 500),\n",
    "                collections={'down': m1,\n",
    "                             'up': m2,\n",
    "                             'both': both},\n",
    "                sample=sample,\n",
    "                BF='BF',\n",
    "                saveCSV=False,\n",
    "                showim=True)"
   ]
  },
  {
   "cell_type": "code",
   "execution_count": null,
   "metadata": {},
   "outputs": [],
   "source": [
    "# simple study of B along x plane\n",
    "\n",
    "plot_2D_plane_x(x=0,\n",
    "                ys=linspace(-10, 10, 30),\n",
    "                zs=linspace(-5, 5, 30),\n",
    "                collections={'both': both},\n",
    "                BF='B',\n",
    "                showim=True)"
   ]
  },
  {
   "cell_type": "code",
   "execution_count": null,
   "metadata": {},
   "outputs": [],
   "source": [
    "# simple study of F along y plane\n",
    "\n",
    "plot_2D_plane_y(xs=linspace(-10, 10, 30),\n",
    "                y=0,\n",
    "                zs=linspace(-5, 5, 30),\n",
    "                collections={'up': m2},\n",
    "                sample=sample,\n",
    "                modes=['surface', 'quiver'],\n",
    "                BF='F',\n",
    "                showim=True)"
   ]
  },
  {
   "cell_type": "code",
   "execution_count": null,
   "metadata": {},
   "outputs": [],
   "source": [
    "# using all variables in the plot function for z plane\n",
    "\n",
    "plot_2D_plane_z(xs=linspace(-10, 10, 30),\n",
    "                ys=linspace(-10, 10, 30),\n",
    "                z=0,\n",
    "                collections={'down': m1,\n",
    "                             'both': both},\n",
    "                sample=sample,\n",
    "                modes=['quiver'],\n",
    "                BF='F',\n",
    "                saveCSV=False,\n",
    "                showim=True)"
   ]
  },
  {
   "cell_type": "code",
   "execution_count": null,
   "metadata": {},
   "outputs": [],
   "source": [
    "# 3D plot of B and F in a 3D space\n",
    "\n",
    "plot_3D(xs=linspace(-10, 10, 9),\n",
    "        ys=linspace(-10, 10, 9),\n",
    "        zs=linspace(-20, 20, 9),\n",
    "        collections={'z-20': m1,\n",
    "                     'both': both},\n",
    "        sample=sample,\n",
    "        BF='BF',\n",
    "        saveCSV=False,\n",
    "        showim=True)"
   ]
  },
  {
   "cell_type": "code",
   "execution_count": null,
   "metadata": {},
   "outputs": [],
   "source": []
  }
 ],
 "metadata": {
  "kernelspec": {
   "display_name": "Python 3",
   "language": "python",
   "name": "python3"
  },
  "language_info": {
   "codemirror_mode": {
    "name": "ipython",
    "version": 3
   },
   "file_extension": ".py",
   "mimetype": "text/x-python",
   "name": "python",
   "nbconvert_exporter": "python",
   "pygments_lexer": "ipython3",
   "version": "3.7.7"
  }
 },
 "nbformat": 4,
 "nbformat_minor": 4
}
